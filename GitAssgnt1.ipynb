{
  "nbformat": 4,
  "nbformat_minor": 0,
  "metadata": {
    "colab": {
      "name": "GitAssgnt1.ipynb",
      "provenance": [],
      "authorship_tag": "ABX9TyMS2gkoLGR1hTdvJZ22GFLa",
      "include_colab_link": true
    },
    "kernelspec": {
      "name": "python3",
      "display_name": "Python 3"
    }
  },
  "cells": [
    {
      "cell_type": "markdown",
      "metadata": {
        "id": "view-in-github",
        "colab_type": "text"
      },
      "source": [
        "<a href=\"https://colab.research.google.com/github/sushmasiram/PythonRefresher/blob/master/GitAssgnt1.ipynb\" target=\"_parent\"><img src=\"https://colab.research.google.com/assets/colab-badge.svg\" alt=\"Open In Colab\"/></a>"
      ]
    },
    {
      "cell_type": "code",
      "metadata": {
        "id": "6rR0nhlQLeUb",
        "colab_type": "code",
        "colab": {
          "base_uri": "https://localhost:8080/",
          "height": 34
        },
        "outputId": "26421b68-ce8a-4652-958d-54357f8c3d7c"
      },
      "source": [
        "print (\"Git practice\")"
      ],
      "execution_count": 1,
      "outputs": [
        {
          "output_type": "stream",
          "text": [
            "Git practice\n"
          ],
          "name": "stdout"
        }
      ]
    }
  ]
}