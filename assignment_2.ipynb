{
  "nbformat": 4,
  "nbformat_minor": 0,
  "metadata": {
    "colab": {
      "name": "assignment_2.ipynb",
      "provenance": [],
      "authorship_tag": "ABX9TyMjtjx4eLFxHHmIb0kjUyJL",
      "include_colab_link": true
    },
    "kernelspec": {
      "name": "python3",
      "display_name": "Python 3"
    }
  },
  "cells": [
    {
      "cell_type": "markdown",
      "metadata": {
        "id": "view-in-github",
        "colab_type": "text"
      },
      "source": [
        "<a href=\"https://colab.research.google.com/github/sushmasiram/PythonRefresher/blob/master/assignment_2.ipynb\" target=\"_parent\"><img src=\"https://colab.research.google.com/assets/colab-badge.svg\" alt=\"Open In Colab\"/></a>"
      ]
    },
    {
      "cell_type": "markdown",
      "metadata": {
        "id": "c5pImPK_xTuc",
        "colab_type": "text"
      },
      "source": [
        "Question No: 4\n",
        "Write a code which will take a string input. \n",
        "The output of the code should be the last three characters of the string in upper case. \n"
      ]
    },
    {
      "cell_type": "code",
      "metadata": {
        "id": "hMQIz1iwsykV",
        "colab_type": "code",
        "colab": {
          "base_uri": "https://localhost:8080/",
          "height": 68
        },
        "outputId": "f1545414-69b6-46f1-ed0e-6388bba0cd8e"
      },
      "source": [
        "string_input = input(\"Enter your word\")\n",
        "print (\"The last three letters of the inputted string are \"+ string_input[:2:-1].upper() + \" in uppercase\")\n",
        "last_three_letters = string_input[len(string_input)-3:len(string_input)]\n",
        "uppercase_last_three_letters = last_three_letters.upper()\n",
        "print (\"The last three letters of the inputted string are \"+ uppercase_last_three_letters + \" in uppercase\")"
      ],
      "execution_count": 15,
      "outputs": [
        {
          "output_type": "stream",
          "text": [
            "sushma\n",
            "The last three letters of the inputted string are AM in uppercase\n",
            "The last three letters of the inputted string are HMA in uppercase\n"
          ],
          "name": "stdout"
        }
      ]
    },
    {
      "cell_type": "markdown",
      "metadata": {
        "id": "4pqpup0cxcVC",
        "colab_type": "text"
      },
      "source": [
        "Question No: 5\n",
        "Write a code which will take a sentence as an input. \n",
        "The output of the code should be the number of words in the string. \n",
        "The code should also output the longest word. If there are multiple words with same length, print the one which appears first in a dictionary."
      ]
    },
    {
      "cell_type": "code",
      "metadata": {
        "id": "mY-5POMyxkMk",
        "colab_type": "code",
        "colab": {
          "base_uri": "https://localhost:8080/",
          "height": 68
        },
        "outputId": "f0d2b410-fe02-4bac-dc6d-aa3f680df23b"
      },
      "source": [
        "sentence_input = input(\"Please input your sentence\")\n",
        "words = sentence_input.split()\n",
        "length_words = {}\n",
        "for i in words:\n",
        "  length_words [i] = len(i)\n",
        "max_length = 0\n",
        "word_with_max_char = \"\"\n",
        "for i in length_words.keys():\n",
        "  if length_words[i] > max_length :\n",
        "    max_length = length_words[i]\n",
        "    word_with_max_char = i\n",
        "  elif length_words[i] == max_length:\n",
        "    continue\n",
        "\n",
        "print (\"The word with maximum characters in the input sentence is '{} 'with {} characters\" .format(word_with_max_char,max_length))"
      ],
      "execution_count": 22,
      "outputs": [
        {
          "output_type": "stream",
          "text": [
            "Please input your sentenceHi abhinav\n",
            "{'Hi': 2, 'abhinav': 7}\n",
            "The word with maximum characters in the input sentence is 'abhinav 'with 7 characters\n"
          ],
          "name": "stdout"
        }
      ]
    }
  ]
}