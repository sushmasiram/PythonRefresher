{
  "nbformat": 4,
  "nbformat_minor": 0,
  "metadata": {
    "colab": {
      "name": "practice4.ipynb",
      "provenance": [],
      "authorship_tag": "ABX9TyNMp8p3ZU7knXWbx5qAwxWe",
      "include_colab_link": true
    },
    "kernelspec": {
      "name": "python3",
      "display_name": "Python 3"
    }
  },
  "cells": [
    {
      "cell_type": "markdown",
      "metadata": {
        "id": "view-in-github",
        "colab_type": "text"
      },
      "source": [
        "<a href=\"https://colab.research.google.com/github/sushmasiram/PythonRefresher/blob/master/practice4.ipynb\" target=\"_parent\"><img src=\"https://colab.research.google.com/assets/colab-badge.svg\" alt=\"Open In Colab\"/></a>"
      ]
    },
    {
      "cell_type": "code",
      "metadata": {
        "id": "hMQIz1iwsykV",
        "colab_type": "code",
        "colab": {
          "base_uri": "https://localhost:8080/",
          "height": 68
        },
        "outputId": "f1545414-69b6-46f1-ed0e-6388bba0cd8e"
      },
      "source": [
        "string_input = input()\n",
        "print (\"The last three letters of the inputted string are \"+ string_input[:2:-1].upper() + \" in uppercase\")\n",
        "last_three_letters = string_input[len(string_input)-3:len(string_input)]\n",
        "uppercase_last_three_letters = last_three_letters.upper()\n",
        "print (\"The last three letters of the inputted string are \"+ uppercase_last_three_letters + \" in uppercase\")"
      ],
      "execution_count": 15,
      "outputs": [
        {
          "output_type": "stream",
          "text": [
            "sushma\n",
            "The last three letters of the inputted string are AM in uppercase\n",
            "The last three letters of the inputted string are HMA in uppercase\n"
          ],
          "name": "stdout"
        }
      ]
    }
  ]
}